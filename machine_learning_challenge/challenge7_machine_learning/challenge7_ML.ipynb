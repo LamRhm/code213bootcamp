{
 "cells": [
  {
   "cell_type": "markdown",
   "id": "e146b86c-3a15-488c-951c-897ea518852b",
   "metadata": {},
   "source": [
    "# Machine Learning Algorithm Showdown\n",
    "\n",
    "## Objective\n",
    "\n",
    "To build a robust **machine learning pipeline**, comparing and\n",
    "contrasting different algorithms for classification and regression\n",
    "tasks, and ultimately selecting the most suitable model for a given\n",
    "problem.\n",
    "\n",
    "------------------------------------------------------------------------\n",
    "\n",
    "# 1.Load the Dataset\n",
    "\n",
    "-   **Kaggle Dataset**: Medical Cost Personal Dataset (`insurance.csv`)\n",
    "-   Variables: `age`, `sex`, `bmi`, `children`, `smoker`, `region`,\n",
    "    `charges`\n",
    "-   Targets:\n",
    "    -   Regression: `charges`\n",
    "    -   Classification: `high_charge` (1 if charges \\> median, else 0)\n"
   ]
  },
  {
   "cell_type": "code",
   "execution_count": 61,
   "id": "c7a9f053-5e21-4ac8-8308-dfdda44b6264",
   "metadata": {},
   "outputs": [],
   "source": [
    "import pandas as pd\n",
    "from sklearn.model_selection import train_test_split\n",
    "from sklearn.preprocessing import OneHotEncoder, StandardScaler\n",
    "from sklearn.compose import ColumnTransformer\n",
    "from sklearn.pipeline import Pipeline\n",
    "\n",
    "# Load dataset\n",
    "df = pd.read_csv(r\"C:\\Users\\user\\Documents\\challenges_project\\machine_learning_challenge\\insurance.csv\")\n",
    "\n"
   ]
  },
  {
   "cell_type": "markdown",
   "id": "de7e5955-1b0d-4ac2-ad5f-f78bc3718ff4",
   "metadata": {},
   "source": [
    "# 2.Data preprocessing"
   ]
  },
  {
   "cell_type": "code",
   "execution_count": 62,
   "id": "5e3b3bf8-2354-403a-ae3a-00778661762b",
   "metadata": {},
   "outputs": [],
   "source": [
    "# Handle missing values (simple: drop if any, though dataset has none)\n",
    "df = df.dropna()\n",
    "\n",
    "# Handle outliers (simple: clip BMI and charges to reasonable percentiles)\n",
    "df['bmi'] = df['bmi'].clip(lower=df['bmi'].quantile(0.01), upper=df['bmi'].quantile(0.99))\n",
    "df['charges'] = df['charges'].clip(lower=df['charges'].quantile(0.01), upper=df['charges'].quantile(0.99))\n"
   ]
  },
  {
   "cell_type": "code",
   "execution_count": 63,
   "id": "0bd3a760-5ecd-4d70-bc06-ffd1bd4a9364",
   "metadata": {},
   "outputs": [],
   "source": [
    "# Classification target\n",
    "df['high_charge'] = (df['charges'] > df['charges'].median()).astype(int)\n",
    "\n",
    "# Features and targets\n",
    "features = ['age', 'sex', 'bmi', 'children', 'smoker', 'region']\n",
    "X = df[features]\n",
    "y_reg = df['charges']\n",
    "y_clf = df['high_charge']"
   ]
  },
  {
   "cell_type": "code",
   "execution_count": 64,
   "id": "a79985b4-d04f-49de-ada0-67ca284629df",
   "metadata": {},
   "outputs": [],
   "source": [
    "# Split\n",
    "X_train, X_test, y_reg_train, y_reg_test, y_clf_train, y_clf_test = train_test_split(\n",
    "    X, y_reg, y_clf, test_size=0.2, random_state=42, stratify=y_clf\n",
    ")\n"
   ]
  },
  {
   "cell_type": "code",
   "execution_count": 65,
   "id": "53d7eb48-b8ad-44cb-89d8-13f74b289b6a",
   "metadata": {},
   "outputs": [],
   "source": [
    "# Preprocessing\n",
    "numeric_features = ['age', 'bmi', 'children']\n",
    "categorical_features = ['sex', 'smoker', 'region']\n",
    "\n",
    "numeric_transformer = Pipeline([\n",
    "    ('scaler', StandardScaler())\n",
    "])\n",
    "\n",
    "categorical_transformer = Pipeline([\n",
    "    ('onehot', OneHotEncoder(drop='first', sparse_output=False))\n",
    "])\n",
    "\n",
    "preprocessor = ColumnTransformer([\n",
    "    ('num', numeric_transformer, numeric_features),\n",
    "    ('cat', categorical_transformer, categorical_features)\n",
    "])"
   ]
  },
  {
   "cell_type": "markdown",
   "id": "f9cdd162-fe28-41a6-bb75-212d10c4e217",
   "metadata": {},
   "source": [
    "# 3.Algorithms selection"
   ]
  },
  {
   "cell_type": "code",
   "execution_count": 66,
   "id": "7e2a28b7-ce12-46c2-a583-0b443f49b311",
   "metadata": {},
   "outputs": [],
   "source": [
    "from sklearn.linear_model import LogisticRegression, LinearRegression\n",
    "from sklearn.tree import DecisionTreeClassifier, DecisionTreeRegressor\n",
    "from sklearn.ensemble import RandomForestClassifier, RandomForestRegressor\n",
    "from sklearn.svm import SVC, SVR\n",
    "from sklearn.naive_bayes import GaussianNB\n",
    "\n",
    "# Classification models\n",
    "classification_models = {\n",
    "    \"Logistic Regression\": LogisticRegression(max_iter=1000),\n",
    "    \"Decision Tree\": DecisionTreeClassifier(random_state=42),\n",
    "    \"Random Forest\": RandomForestClassifier(random_state=42),\n",
    "    \"SVM\": SVC(random_state=42),\n",
    "    \"Naive Bayes\": GaussianNB()\n",
    "}\n",
    "\n",
    "# Regression models\n",
    "regression_models = {\n",
    "    \"Linear Regression\": LinearRegression(),\n",
    "    \"Decision Tree\": DecisionTreeRegressor(random_state=42),\n",
    "    \"Random Forest\": RandomForestRegressor(random_state=42),\n",
    "    \"SVR\": SVR()\n",
    "}\n"
   ]
  },
  {
   "cell_type": "markdown",
   "id": "f88f0fe4-4733-4323-b7de-5cd7ba4ced14",
   "metadata": {},
   "source": [
    "# 4.Model training"
   ]
  },
  {
   "cell_type": "code",
   "execution_count": 67,
   "id": "8afdc751-6ad1-4183-b8a9-b461335f8d9d",
   "metadata": {},
   "outputs": [],
   "source": [
    "# Step 4: Model Training\n",
    "from sklearn.pipeline import Pipeline\n",
    "\n",
    "# Dictionary to store trained models\n",
    "trained_classifiers = {}\n",
    "trained_regressors = {}\n",
    "\n",
    "# Train classification models\n",
    "for name, model in classification_models.items():\n",
    "    clf_pipeline = Pipeline([\n",
    "        ('preprocessor', preprocessor),\n",
    "        ('classifier', model)\n",
    "    ])\n",
    "    clf_pipeline.fit(X_train, y_clf_train)\n",
    "    trained_classifiers[name] = clf_pipeline\n"
   ]
  },
  {
   "cell_type": "code",
   "execution_count": 68,
   "id": "a8f9fd69-242c-48bf-8e3a-f5f9a3018b62",
   "metadata": {},
   "outputs": [],
   "source": [
    "# Train regression models\n",
    "for name, model in regression_models.items():\n",
    "    reg_pipeline = Pipeline([\n",
    "        ('preprocessor', preprocessor),\n",
    "        ('regressor', model)\n",
    "    ])\n",
    "    reg_pipeline.fit(X_train, y_reg_train)\n",
    "    trained_regressors[name] = reg_pipeline\n"
   ]
  },
  {
   "cell_type": "markdown",
   "id": "b8b5be90-af5b-44ea-8be4-b175a18ad67f",
   "metadata": {},
   "source": [
    "# 5.Hyperparameter tuning"
   ]
  },
  {
   "cell_type": "code",
   "execution_count": 70,
   "id": "86308781-a45a-4c5a-bcf4-fd8dac299a2e",
   "metadata": {},
   "outputs": [
    {
     "name": "stdout",
     "output_type": "stream",
     "text": [
      "                 Model                                        Best Params\n",
      "0  Logistic Regression                              {'classifier__C': 10}\n",
      "1        Decision Tree                       {'classifier__max_depth': 5}\n",
      "2        Random Forest  {'classifier__max_depth': None, 'classifier__n...\n",
      "3                  SVM  {'classifier__C': 1, 'classifier__kernel': 'rbf'}\n",
      "4          Naive Bayes                                                 {}\n"
     ]
    }
   ],
   "source": [
    "from sklearn.model_selection import GridSearchCV\n",
    "# Example parameter grids\n",
    "param_grids_clf = {\n",
    "    \"Logistic Regression\": {\"classifier__C\": [0.1, 1, 10]},\n",
    "    \"Decision Tree\": {\"classifier__max_depth\": [3, 5, 7, None]},\n",
    "    \"Random Forest\": {\"classifier__n_estimators\": [50, 100], \"classifier__max_depth\": [5, None]},\n",
    "    \"SVM\": {\"classifier__C\": [0.1, 1], \"classifier__kernel\": [\"linear\", \"rbf\"]},\n",
    "    \"Naive Bayes\": {}  # no important hyperparameters\n",
    "}\n",
    "\n",
    "# Run grid search for classifiers\n",
    "best_classifiers = {}\n",
    "results = []  # ✅ Initialize here\n",
    "\n",
    "for name, model in classification_models.items():\n",
    "    pipe = Pipeline([\n",
    "        ('preprocessor', preprocessor),\n",
    "        ('classifier', model)\n",
    "    ])\n",
    "    grid = GridSearchCV(pipe, param_grids_clf[name], cv=3, n_jobs=-1)\n",
    "    grid.fit(X_train, y_clf_train)\n",
    "    best_classifiers[name] = grid.best_estimator_\n",
    "    results.append({\n",
    "        \"Model\": name,\n",
    "        \"Best Params\": grid.best_params_\n",
    "    })\n",
    "\n",
    "# Put results into a DataFrame\n",
    "results_df = pd.DataFrame(results)\n",
    "print(results_df)\n",
    "\n"
   ]
  },
  {
   "cell_type": "code",
   "execution_count": 71,
   "id": "3dd91a1a-c738-407b-b0bc-2ee8c6892386",
   "metadata": {},
   "outputs": [
    {
     "name": "stdout",
     "output_type": "stream",
     "text": [
      "               Model                                        Best Params\n",
      "0  Linear Regression                                                 {}\n",
      "1      Decision Tree                        {'regressor__max_depth': 3}\n",
      "2      Random Forest  {'regressor__max_depth': 5, 'regressor__n_esti...\n",
      "3                SVR  {'regressor__C': 1, 'regressor__kernel': 'line...\n"
     ]
    }
   ],
   "source": [
    "param_grids_reg = {\n",
    "    \"Linear Regression\": {},  # no important hyperparameters\n",
    "    \"Decision Tree\": {\"regressor__max_depth\": [3, 5, None]},\n",
    "    \"Random Forest\": {\"regressor__n_estimators\": [50, 100], \"regressor__max_depth\": [5, None]},\n",
    "    \"SVR\": {\"regressor__C\": [0.1, 1], \"regressor__kernel\": [\"linear\", \"rbf\"]}\n",
    "}\n",
    "\n",
    "regression_results = []\n",
    "\n",
    "best_regressors = {}\n",
    "for name, model in regression_models.items():\n",
    "    pipe = Pipeline([\n",
    "        ('preprocessor', preprocessor),\n",
    "        ('regressor', model)\n",
    "    ])\n",
    "    grid = GridSearchCV(pipe, param_grids_reg[name], cv=3, n_jobs=-1)\n",
    "    grid.fit(X_train, y_reg_train)\n",
    "    best_regressors[name] = grid.best_estimator_\n",
    "    regression_results.append({\n",
    "        \"Model\": name,\n",
    "        \"Best Params\": grid.best_params_\n",
    "    })\n",
    "\n",
    "# Create a DataFrame with results\n",
    "regression_results_df = pd.DataFrame(regression_results)\n",
    "print(regression_results_df)\n"
   ]
  },
  {
   "cell_type": "markdown",
   "id": "80bad9ba-119b-4cdb-949f-2c29b98ea1a2",
   "metadata": {},
   "source": [
    "# 6.Model evaluation"
   ]
  },
  {
   "cell_type": "code",
   "execution_count": 72,
   "id": "c23104bf-6d3d-470e-9e60-73fa4b41550d",
   "metadata": {},
   "outputs": [
    {
     "name": "stdout",
     "output_type": "stream",
     "text": [
      "                 Model  Accuracy  Precision  Recall  F1-score\n",
      "0  Logistic Regression     0.899      0.885   0.918     0.901\n",
      "1        Decision Tree     0.929      0.967   0.888     0.926\n",
      "2        Random Forest     0.937      0.968   0.903     0.934\n",
      "3                  SVM     0.940      0.968   0.910     0.938\n",
      "4          Naive Bayes     0.746      1.000   0.493     0.660\n"
     ]
    }
   ],
   "source": [
    "from sklearn.metrics import accuracy_score, precision_score, recall_score, f1_score\n",
    "from sklearn.metrics import mean_absolute_error, mean_squared_error\n",
    "import numpy as np\n",
    "\n",
    "classification_metrics = []\n",
    "\n",
    "for name, model in best_classifiers.items():\n",
    "    y_pred = model.predict(X_test)\n",
    "    acc = accuracy_score(y_clf_test, y_pred)\n",
    "    prec = precision_score(y_clf_test, y_pred)\n",
    "    rec = recall_score(y_clf_test, y_pred)\n",
    "    f1 = f1_score(y_clf_test, y_pred)\n",
    "    \n",
    "    classification_metrics.append({\n",
    "        \"Model\": name,\n",
    "        \"Accuracy\": round(acc, 3),\n",
    "        \"Precision\": round(prec, 3),\n",
    "        \"Recall\": round(rec, 3),\n",
    "        \"F1-score\": round(f1, 3)\n",
    "    })\n",
    "    \n",
    "classification_results_df = pd.DataFrame(classification_metrics)\n",
    "print(classification_results_df)\n",
    "\n"
   ]
  },
  {
   "cell_type": "code",
   "execution_count": 73,
   "id": "14250eee-72a4-492d-9e2b-dc3addc4137f",
   "metadata": {},
   "outputs": [
    {
     "name": "stdout",
     "output_type": "stream",
     "text": [
      "               Model      MAE           MSE      RMSE\n",
      "0  Linear Regression  4486.88  3.942955e+07   6279.29\n",
      "1      Decision Tree  2719.87  1.996534e+07   4468.26\n",
      "2      Random Forest  2445.44  1.905830e+07   4365.58\n",
      "3                SVR  8520.15  1.695004e+08  13019.23\n"
     ]
    }
   ],
   "source": [
    "regression_metrics = []\n",
    "\n",
    "for name, model in best_regressors.items():\n",
    "    y_pred = model.predict(X_test)\n",
    "    mae = mean_absolute_error(y_reg_test, y_pred)\n",
    "    mse = mean_squared_error(y_reg_test, y_pred)\n",
    "    rmse = np.sqrt(mse)\n",
    "    \n",
    "    regression_metrics.append({\n",
    "        \"Model\": name,\n",
    "        \"MAE\": round(mae, 2),\n",
    "        \"MSE\": round(mse, 2),\n",
    "        \"RMSE\": round(rmse, 2)\n",
    "    })\n",
    "\n",
    "regression_results_df = pd.DataFrame(regression_metrics)\n",
    "print(regression_results_df)"
   ]
  },
  {
   "cell_type": "markdown",
   "id": "05b95f7e-47a9-4c62-9d62-b8cdf82533b9",
   "metadata": {},
   "source": [
    "# 7.Model comparision"
   ]
  },
  {
   "cell_type": "code",
   "execution_count": 74,
   "id": "0902a963-d6f1-4f07-8b10-1f4b564758e1",
   "metadata": {},
   "outputs": [
    {
     "name": "stdout",
     "output_type": "stream",
     "text": [
      "Classification Model Comparison:\n",
      "                  Model  Accuracy  Precision    Recall        F1\n",
      "0  Logistic Regression  0.899254   0.884892  0.917910  0.901099\n",
      "1        Decision Tree  0.929104   0.967480  0.888060  0.926070\n",
      "2        Random Forest  0.936567   0.968000  0.902985  0.934363\n",
      "3                  SVM  0.940299   0.968254  0.910448  0.938462\n",
      "4          Naive Bayes  0.746269   1.000000  0.492537  0.660000\n",
      "Regression Model Comparison:\n",
      "                Model          MAE           MSE          RMSE\n",
      "0  Linear Regression  4486.878756  3.942955e+07   6279.294977\n",
      "1      Decision Tree  2719.873702  1.996534e+07   4468.259710\n",
      "2      Random Forest  2445.441386  1.905830e+07   4365.581387\n",
      "3                SVR  8520.149104  1.695004e+08  13019.231854\n"
     ]
    }
   ],
   "source": [
    "import matplotlib.pyplot as plt\n",
    "import pandas as pd\n",
    "\n",
    "# Collect classification results\n",
    "clf_results = []\n",
    "for name, model in best_classifiers.items():\n",
    "    y_pred = model.predict(X_test)\n",
    "    clf_results.append({\n",
    "        \"Model\": name,\n",
    "        \"Accuracy\": accuracy_score(y_clf_test, y_pred),\n",
    "        \"Precision\": precision_score(y_clf_test, y_pred),\n",
    "        \"Recall\": recall_score(y_clf_test, y_pred),\n",
    "        \"F1\": f1_score(y_clf_test, y_pred)\n",
    "    })\n",
    "\n",
    "clf_df = pd.DataFrame(clf_results)\n",
    "print(\"Classification Model Comparison:\\n\", clf_df)\n",
    "\n",
    "# Collect regression results\n",
    "reg_results = []\n",
    "for name, model in best_regressors.items():\n",
    "    y_pred = model.predict(X_test)\n",
    "    reg_results.append({\n",
    "        \"Model\": name,\n",
    "        \"MAE\": mean_absolute_error(y_reg_test, y_pred),\n",
    "        \"MSE\": mean_squared_error(y_reg_test, y_pred),\n",
    "        \"RMSE\": np.sqrt(mean_squared_error(y_reg_test, y_pred))\n",
    "    })\n",
    "\n",
    "reg_df = pd.DataFrame(reg_results)\n",
    "print(\"Regression Model Comparison:\\n\", reg_df)\n"
   ]
  },
  {
   "cell_type": "code",
   "execution_count": 75,
   "id": "22c877b4-7254-4ef1-a5aa-45eab536833e",
   "metadata": {},
   "outputs": [
    {
     "data": {
      "image/png": "[encoded data removed]",
      "text/plain": [
       "<Figure size 800x500 with 1 Axes>"
      ]
     },
     "metadata": {},
     "output_type": "display_data"
    },
    {
     "data": {
      "image/png": "[encoded data removed]",
      "text/plain": [
       "<Figure size 800x500 with 1 Axes>"
      ]
     },
     "metadata": {},
     "output_type": "display_data"
    }
   ],
   "source": [
    "# --- Visualization ---\n",
    "\n",
    "# Classification F1-score bar chart\n",
    "plt.figure(figsize=(8,5))\n",
    "plt.bar(clf_df[\"Model\"], clf_df[\"F1\"], color=\"skyblue\")\n",
    "plt.title(\"Classification Models - F1 Score\")\n",
    "plt.ylabel(\"F1 Score\")\n",
    "plt.show()\n",
    "\n",
    "# Regression RMSE bar chart\n",
    "plt.figure(figsize=(8,5))\n",
    "plt.bar(reg_df[\"Model\"], reg_df[\"RMSE\"], color=\"lightgreen\")\n",
    "plt.title(\"Regression Models - RMSE\")\n",
    "plt.ylabel(\"RMSE\")\n",
    "plt.show()"
   ]
  },
  {
   "cell_type": "markdown",
   "id": "fd16e39c-0afe-4d78-9e2d-b764fce3518c",
   "metadata": {},
   "source": [
    "# 8: Feature Importance (Tree-Based Models)"
   ]
  },
  {
   "cell_type": "code",
   "execution_count": 76,
   "id": "3b666b0d-1886-4b89-a721-3ef8b0e33318",
   "metadata": {},
   "outputs": [
    {
     "data": {
      "text/html": [
       "<div>\n",
       "<style scoped>\n",
       "    .dataframe tbody tr th:only-of-type {\n",
       "        vertical-align: middle;\n",
       "    }\n",
       "\n",
       "    .dataframe tbody tr th {\n",
       "        vertical-align: top;\n",
       "    }\n",
       "\n",
       "    .dataframe thead th {\n",
       "        text-align: right;\n",
       "    }\n",
       "</style>\n",
       "<table border=\"1\" class=\"dataframe\">\n",
       "  <thead>\n",
       "    <tr style=\"text-align: right;\">\n",
       "      <th></th>\n",
       "      <th>Feature</th>\n",
       "      <th>Decision Tree</th>\n",
       "      <th>Random Forest</th>\n",
       "    </tr>\n",
       "  </thead>\n",
       "  <tbody>\n",
       "    <tr>\n",
       "      <th>0</th>\n",
       "      <td>age</td>\n",
       "      <td>0.486528</td>\n",
       "      <td>0.496244</td>\n",
       "    </tr>\n",
       "    <tr>\n",
       "      <th>4</th>\n",
       "      <td>smoker_yes</td>\n",
       "      <td>0.446742</td>\n",
       "      <td>0.268655</td>\n",
       "    </tr>\n",
       "    <tr>\n",
       "      <th>1</th>\n",
       "      <td>bmi</td>\n",
       "      <td>0.006683</td>\n",
       "      <td>0.146897</td>\n",
       "    </tr>\n",
       "    <tr>\n",
       "      <th>2</th>\n",
       "      <td>children</td>\n",
       "      <td>0.043663</td>\n",
       "      <td>0.043485</td>\n",
       "    </tr>\n",
       "    <tr>\n",
       "      <th>3</th>\n",
       "      <td>sex_male</td>\n",
       "      <td>0.010875</td>\n",
       "      <td>0.015808</td>\n",
       "    </tr>\n",
       "    <tr>\n",
       "      <th>6</th>\n",
       "      <td>region_southeast</td>\n",
       "      <td>0.004915</td>\n",
       "      <td>0.010909</td>\n",
       "    </tr>\n",
       "    <tr>\n",
       "      <th>7</th>\n",
       "      <td>region_southwest</td>\n",
       "      <td>0.000595</td>\n",
       "      <td>0.010037</td>\n",
       "    </tr>\n",
       "    <tr>\n",
       "      <th>5</th>\n",
       "      <td>region_northwest</td>\n",
       "      <td>0.000000</td>\n",
       "      <td>0.007964</td>\n",
       "    </tr>\n",
       "  </tbody>\n",
       "</table>\n",
       "</div>"
      ],
      "text/plain": [
       "            Feature  Decision Tree  Random Forest\n",
       "0               age       0.486528       0.496244\n",
       "4        smoker_yes       0.446742       0.268655\n",
       "1               bmi       0.006683       0.146897\n",
       "2          children       0.043663       0.043485\n",
       "3          sex_male       0.010875       0.015808\n",
       "6  region_southeast       0.004915       0.010909\n",
       "7  region_southwest       0.000595       0.010037\n",
       "5  region_northwest       0.000000       0.007964"
      ]
     },
     "metadata": {},
     "output_type": "display_data"
    }
   ],
   "source": [
    "# Extract feature names from preprocessor\n",
    "def get_feature_names(preprocessor):\n",
    "    output_features = []\n",
    "\n",
    "    # Handle numeric features\n",
    "    if 'num' in preprocessor.named_transformers_:\n",
    "        num_features = preprocessor.transformers_[0][2]\n",
    "        output_features.extend(num_features)\n",
    "\n",
    "    # Handle categorical features (with one-hot encoding)\n",
    "    if 'cat' in preprocessor.named_transformers_:\n",
    "        cat_transformer = preprocessor.named_transformers_['cat']\n",
    "        cat_features = preprocessor.transformers_[1][2]\n",
    "        cat_ohe = cat_transformer.named_steps['onehot']\n",
    "        cat_feature_names = cat_ohe.get_feature_names_out(cat_features)\n",
    "        output_features.extend(cat_feature_names)\n",
    "\n",
    "    return output_features\n",
    "\n",
    "# Get feature names\n",
    "feature_names = get_feature_names(preprocessor)\n",
    "\n",
    "# Collect feature importance from tree-based classifiers\n",
    "all_importances = pd.DataFrame()\n",
    "\n",
    "for name in [\"Decision Tree\", \"Random Forest\"]:\n",
    "    model = best_classifiers[name].named_steps['classifier']\n",
    "    if hasattr(model, \"feature_importances_\"):\n",
    "        importances = model.feature_importances_\n",
    "        importance_df = pd.DataFrame({\n",
    "            \"Feature\": feature_names,\n",
    "            name: importances\n",
    "        })\n",
    "        if all_importances.empty:\n",
    "            all_importances = importance_df\n",
    "        else:\n",
    "            all_importances = all_importances.merge(importance_df, on=\"Feature\")\n",
    "\n",
    "# Sort by Random Forest importance (or Decision Tree if you prefer)\n",
    "all_importances = all_importances.sort_values(by=\"Random Forest\", ascending=False)\n",
    "\n",
    "# Display the table\n",
    "display(all_importances)\n"
   ]
  },
  {
   "cell_type": "code",
   "execution_count": 77,
   "id": "5b4cf470-2d5a-4a98-9e26-32daaaf50d55",
   "metadata": {},
   "outputs": [
    {
     "name": "stdout",
     "output_type": "stream",
     "text": [
      "Cross-Validation:\n",
      "\n"
     ]
    },
    {
     "data": {
      "text/html": [
       "<div>\n",
       "<style scoped>\n",
       "    .dataframe tbody tr th:only-of-type {\n",
       "        vertical-align: middle;\n",
       "    }\n",
       "\n",
       "    .dataframe tbody tr th {\n",
       "        vertical-align: top;\n",
       "    }\n",
       "\n",
       "    .dataframe thead th {\n",
       "        text-align: right;\n",
       "    }\n",
       "</style>\n",
       "<table border=\"1\" class=\"dataframe\">\n",
       "  <thead>\n",
       "    <tr style=\"text-align: right;\">\n",
       "      <th></th>\n",
       "      <th>Model</th>\n",
       "      <th>Metric</th>\n",
       "      <th>Mean Score</th>\n",
       "      <th>Std Dev</th>\n",
       "    </tr>\n",
       "  </thead>\n",
       "  <tbody>\n",
       "    <tr>\n",
       "      <th>0</th>\n",
       "      <td>Logistic Regression</td>\n",
       "      <td>Accuracy</td>\n",
       "      <td>0.911054</td>\n",
       "      <td>0.027889</td>\n",
       "    </tr>\n",
       "    <tr>\n",
       "      <th>1</th>\n",
       "      <td>Decision Tree</td>\n",
       "      <td>Accuracy</td>\n",
       "      <td>0.920770</td>\n",
       "      <td>0.021837</td>\n",
       "    </tr>\n",
       "    <tr>\n",
       "      <th>2</th>\n",
       "      <td>Random Forest</td>\n",
       "      <td>Accuracy</td>\n",
       "      <td>0.930477</td>\n",
       "      <td>0.026502</td>\n",
       "    </tr>\n",
       "    <tr>\n",
       "      <th>3</th>\n",
       "      <td>SVM</td>\n",
       "      <td>Accuracy</td>\n",
       "      <td>0.932721</td>\n",
       "      <td>0.029232</td>\n",
       "    </tr>\n",
       "    <tr>\n",
       "      <th>4</th>\n",
       "      <td>Naive Bayes</td>\n",
       "      <td>Accuracy</td>\n",
       "      <td>0.704805</td>\n",
       "      <td>0.028787</td>\n",
       "    </tr>\n",
       "    <tr>\n",
       "      <th>5</th>\n",
       "      <td>Linear Regression</td>\n",
       "      <td>RMSE</td>\n",
       "      <td>5909.771139</td>\n",
       "      <td>305.497606</td>\n",
       "    </tr>\n",
       "    <tr>\n",
       "      <th>6</th>\n",
       "      <td>Decision Tree</td>\n",
       "      <td>RMSE</td>\n",
       "      <td>4595.619593</td>\n",
       "      <td>458.217562</td>\n",
       "    </tr>\n",
       "    <tr>\n",
       "      <th>7</th>\n",
       "      <td>Random Forest</td>\n",
       "      <td>RMSE</td>\n",
       "      <td>4381.496827</td>\n",
       "      <td>456.351111</td>\n",
       "    </tr>\n",
       "    <tr>\n",
       "      <th>8</th>\n",
       "      <td>SVR</td>\n",
       "      <td>RMSE</td>\n",
       "      <td>12418.762140</td>\n",
       "      <td>406.128924</td>\n",
       "    </tr>\n",
       "  </tbody>\n",
       "</table>\n",
       "</div>"
      ],
      "text/plain": [
       "                 Model    Metric    Mean Score     Std Dev\n",
       "0  Logistic Regression  Accuracy      0.911054    0.027889\n",
       "1        Decision Tree  Accuracy      0.920770    0.021837\n",
       "2        Random Forest  Accuracy      0.930477    0.026502\n",
       "3                  SVM  Accuracy      0.932721    0.029232\n",
       "4          Naive Bayes  Accuracy      0.704805    0.028787\n",
       "5    Linear Regression      RMSE   5909.771139  305.497606\n",
       "6        Decision Tree      RMSE   4595.619593  458.217562\n",
       "7        Random Forest      RMSE   4381.496827  456.351111\n",
       "8                  SVR      RMSE  12418.762140  406.128924"
      ]
     },
     "metadata": {},
     "output_type": "display_data"
    }
   ],
   "source": [
    "# Collect results in a dictionary\n",
    "cv_results = {\"Model\": [], \"Metric\": [], \"Mean Score\": [], \"Std Dev\": []}\n",
    "\n",
    "# Classification models (Accuracy)\n",
    "for name, model in best_classifiers.items():\n",
    "    scores = cross_val_score(model, X, y_clf, cv=5, scoring=\"accuracy\")\n",
    "    cv_results[\"Model\"].append(name)\n",
    "    cv_results[\"Metric\"].append(\"Accuracy\")\n",
    "    cv_results[\"Mean Score\"].append(scores.mean())\n",
    "    cv_results[\"Std Dev\"].append(scores.std())\n",
    "\n",
    "# Regression models (RMSE)\n",
    "for name, model in best_regressors.items():\n",
    "    scores = cross_val_score(model, X, y_reg, cv=5, scoring=\"neg_root_mean_squared_error\")\n",
    "    cv_results[\"Model\"].append(name)\n",
    "    cv_results[\"Metric\"].append(\"RMSE\")\n",
    "    cv_results[\"Mean Score\"].append(abs(scores.mean()))\n",
    "    cv_results[\"Std Dev\"].append(scores.std())\n",
    "\n",
    "# Convert to DataFrame\n",
    "cv_matrix = pd.DataFrame(cv_results)\n",
    "\n",
    "# Display nicely\n",
    "print(\"Cross-Validation:\\n\")\n",
    "display(cv_matrix)\n"
   ]
  },
  {
   "cell_type": "code",
   "execution_count": null,
   "id": "d0816f5d-2931-4322-be3c-e8ed47841b42",
   "metadata": {},
   "outputs": [],
   "source": []
  }
 ],
 "metadata": {
  "kernelspec": {
   "display_name": "Python 3 (ipykernel)",
   "language": "python",
   "name": "python3"
  },
  "language_info": {
   "codemirror_mode": {
    "name": "ipython",
    "version": 3
   },
   "file_extension": ".py",
   "mimetype": "text/x-python",
   "name": "python",
   "nbconvert_exporter": "python",
   "pygments_lexer": "ipython3",
   "version": "3.12.9"
  }
 },
 "nbformat": 4,
 "nbformat_minor": 5
}
