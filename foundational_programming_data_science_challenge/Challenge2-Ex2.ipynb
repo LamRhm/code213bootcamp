{
 "cells": [
  {
   "cell_type": "code",
   "execution_count": 2,
   "id": "b37d4d48",
   "metadata": {},
   "outputs": [
    {
     "name": "stdin",
     "output_type": "stream",
     "text": [
      "Guess the number (type 'exit' to quit):  4\n"
     ]
    },
    {
     "name": "stdout",
     "output_type": "stream",
     "text": [
      "You guessed too low!\n"
     ]
    },
    {
     "name": "stdin",
     "output_type": "stream",
     "text": [
      "Guess the number (type 'exit' to quit):  exit\n"
     ]
    },
    {
     "name": "stdout",
     "output_type": "stream",
     "text": [
      "Game exited the right number is 5. Thanks for playing!\n"
     ]
    }
   ],
   "source": [
    "import random\n",
    "\n",
    "number = random.randint(1, 9)\n",
    "num_guesses = 0\n",
    "\n",
    "while True:\n",
    "    user_input = input(\"Guess the number (type 'exit' to quit): \")\n",
    "\n",
    "    if user_input == 'exit':\n",
    "        print(f\"Game exited the right number is {number}. Thanks for playing!\")\n",
    "        break\n",
    "\n",
    "    try:\n",
    "        num_guessed = int(user_input)\n",
    "        num_guesses += 1\n",
    "\n",
    "        if num_guessed < number:\n",
    "            print(\"You guessed too low!\")\n",
    "        elif num_guessed > number:\n",
    "            print(\"You guessed too high!\")\n",
    "        else:\n",
    "            print(f\"Congrats! You guessed it right in {num_guesses} attempts.\")\n",
    "            break  \n",
    "    except ValueError:\n",
    "        print(\"Invalid input! Please enter a number between 1 and 9 or type 'exit' to quit.\")\n"
   ]
  },
  {
   "cell_type": "code",
   "execution_count": null,
   "id": "3a2ad3f0-f764-4a05-bd14-b62c382c1f5b",
   "metadata": {},
   "outputs": [],
   "source": []
  },
  {
   "cell_type": "code",
   "execution_count": null,
   "id": "43d7226c-774d-4889-b709-db8c21a5cd67",
   "metadata": {},
   "outputs": [],
   "source": []
  }
 ],
 "metadata": {
  "kernelspec": {
   "display_name": "Python 3 (ipykernel)",
   "language": "python",
   "name": "python3"
  },
  "language_info": {
   "codemirror_mode": {
    "name": "ipython",
    "version": 3
   },
   "file_extension": ".py",
   "mimetype": "text/x-python",
   "name": "python",
   "nbconvert_exporter": "python",
   "pygments_lexer": "ipython3",
   "version": "3.12.9"
  }
 },
 "nbformat": 4,
 "nbformat_minor": 5
}
