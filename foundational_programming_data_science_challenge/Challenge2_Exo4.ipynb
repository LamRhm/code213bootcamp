{
 "cells": [
  {
   "cell_type": "code",
   "execution_count": 8,
   "id": "79cc7d43-1d94-471b-9ff1-c6f2ba31f069",
   "metadata": {},
   "outputs": [
    {
     "name": "stdin",
     "output_type": "stream",
     "text": [
      "Enter password strength (weak, medium, strong) or 'exit' to quit:  strOng\n"
     ]
    },
    {
     "name": "stdout",
     "output_type": "stream",
     "text": [
      "Tha password is: 6<}'SM2#JS%8\n"
     ]
    },
    {
     "name": "stdin",
     "output_type": "stream",
     "text": [
      "Enter password strength (weak, medium, strong) or 'exit' to quit:  exit\n"
     ]
    },
    {
     "name": "stdout",
     "output_type": "stream",
     "text": [
      "End\n"
     ]
    }
   ],
   "source": [
    "#password generator\n",
    "import random\n",
    "import string\n",
    "\n",
    "def weak_password():\n",
    "    words = [\"sky\", \"sun\", \"cat\", \"bird\", \"summer\", \"horse\", \"moon\", \"ocean\", \"blue\", \"smart\"]\n",
    "    return random.choice(words) + random.choice(words)\n",
    "\n",
    "def medium_password(length=8):\n",
    "    characters = string.ascii_letters + string.digits\n",
    "    return ''.join(random.choice(characters) for _ in range(length))\n",
    "\n",
    "def strong_password(length=12):\n",
    "    characters = string.ascii_letters + string.digits + string.punctuation\n",
    "    return ''.join(random.choice(characters) for _ in range(length))\n",
    "\n",
    "def main():\n",
    "    while True:\n",
    "        strength = input(\"Enter password strength (weak, medium, strong) or 'exit' to quit: \").strip().lower()\n",
    "        if strength == 'weak':\n",
    "            print(\"Tha password is:\", weak_password())\n",
    "        elif strength == 'medium':\n",
    "            print(\"Tha password is:\", medium_password())\n",
    "        elif strength == 'strong':\n",
    "            print(\"Tha password is:\", strong_password())\n",
    "        elif strength == 'exit':\n",
    "            print(\"End\")\n",
    "            break\n",
    "        else:\n",
    "            print(\"Invalid input. Please choose weak, medium, or strong.\")\n",
    "\n",
    "if __name__ == \"__main__\":\n",
    "    main()\n"
   ]
  },
  {
   "cell_type": "code",
   "execution_count": null,
   "id": "9f60434e-e193-4482-8d2c-826a379b1515",
   "metadata": {},
   "outputs": [],
   "source": []
  }
 ],
 "metadata": {
  "kernelspec": {
   "display_name": "Python 3 (ipykernel)",
   "language": "python",
   "name": "python3"
  },
  "language_info": {
   "codemirror_mode": {
    "name": "ipython",
    "version": 3
   },
   "file_extension": ".py",
   "mimetype": "text/x-python",
   "name": "python",
   "nbconvert_exporter": "python",
   "pygments_lexer": "ipython3",
   "version": "3.12.9"
  }
 },
 "nbformat": 4,
 "nbformat_minor": 5
}
