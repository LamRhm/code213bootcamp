{
 "cells": [
  {
   "cell_type": "code",
   "execution_count": 6,
   "id": "dc7bc6ed-ba2a-4c8b-8546-9d7cdd3d3c1b",
   "metadata": {},
   "outputs": [],
   "source": [
    "def numbers(number):\n",
    "    for x in number:\n",
    "        print(x)\n",
    "    new_list = [number[0], number[-1]]\n",
    "    print(f'These are the first and last elements of the list: {new_list}')\n",
    "    "
   ]
  },
  {
   "cell_type": "code",
   "execution_count": 7,
   "id": "fd09ffb6-077c-4bef-b711-83300b8629a9",
   "metadata": {},
   "outputs": [
    {
     "name": "stdout",
     "output_type": "stream",
     "text": [
      "1\n",
      "5\n",
      "3\n",
      "8\n",
      "These are the first and last elements of the list: [1, 8]\n"
     ]
    }
   ],
   "source": [
    "number=[1,5,3,8]\n",
    "numbers(number)"
   ]
  },
  {
   "cell_type": "code",
   "execution_count": null,
   "id": "64ba9342-3114-4663-8997-1004d96a7afe",
   "metadata": {},
   "outputs": [],
   "source": []
  }
 ],
 "metadata": {
  "kernelspec": {
   "display_name": "Python 3 (ipykernel)",
   "language": "python",
   "name": "python3"
  },
  "language_info": {
   "codemirror_mode": {
    "name": "ipython",
    "version": 3
   },
   "file_extension": ".py",
   "mimetype": "text/x-python",
   "name": "python",
   "nbconvert_exporter": "python",
   "pygments_lexer": "ipython3",
   "version": "3.12.9"
  }
 },
 "nbformat": 4,
 "nbformat_minor": 5
}
