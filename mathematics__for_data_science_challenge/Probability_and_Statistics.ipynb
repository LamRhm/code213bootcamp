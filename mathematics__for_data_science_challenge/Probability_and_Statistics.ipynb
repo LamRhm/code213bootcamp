{
 "cells": [
  {
   "cell_type": "code",
   "execution_count": 1,
   "metadata": {
    "colab": {
     "base_uri": "https://localhost:8080/"
    },
    "id": "lAVI38pG-7iL",
    "outputId": "844fc0b2-72d0-42ac-ec18-f0b903898813"
   },
   "outputs": [
    {
     "name": "stdout",
     "output_type": "stream",
     "text": [
      "['2023-11-01,15,5,0.2\\n', '2023-11-02,17,7,1.5\\n', '2023-11-03,12,3,0\\n', '2023-11-04,18,6,0.8\\n', '2023-11-05,14,4,3.2\\n', '2023-11-06,16,8,0\\n', '2023-11-07,13,2,0.5\\n', '2023-11-08,19,9,2.1\\n', '2023-11-09,11,1,0.3\\n', '2023-11-10,17,6,1.2']\n"
     ]
    }
   ],
   "source": [
    "file_path = 'weather_data.txt'\n",
    "with open('C:/Users/user/Documents/data_science_bootcamp_challenges_project/mathematics__for_data_science_challenge/weather_data.txt', 'r') as file:\n",
    "        lines = file.readlines()\n",
    "        print(lines)\n"
   ]
  },
  {
   "cell_type": "code",
   "execution_count": 2,
   "metadata": {
    "colab": {
     "base_uri": "https://localhost:8080/"
    },
    "id": "3JfMcoWJD1OW",
    "outputId": "5ef63bc2-9fbc-4449-c8ce-927322d20b29"
   },
   "outputs": [
    {
     "name": "stdout",
     "output_type": "stream",
     "text": [
      "2023-11-01 15 5 0.2\n"
     ]
    }
   ],
   "source": [
    "date,max_temp,min_temp,precipitation=lines[0].strip().split(',')\n",
    "print(date,max_temp,min_temp,precipitation)"
   ]
  },
  {
   "cell_type": "code",
   "execution_count": 3,
   "metadata": {
    "colab": {
     "base_uri": "https://localhost:8080/"
    },
    "id": "oUPtHIqkXw7i",
    "outputId": "583f717a-b3bf-4e93-eb8f-2248e4b8b0d9"
   },
   "outputs": [
    {
     "name": "stdout",
     "output_type": "stream",
     "text": [
      "2023-11-01 15 5 0.2\n",
      "2023-11-02 17 7 1.5\n",
      "2023-11-03 12 3 0\n",
      "2023-11-04 18 6 0.8\n",
      "2023-11-05 14 4 3.2\n",
      "2023-11-06 16 8 0\n",
      "2023-11-07 13 2 0.5\n",
      "2023-11-08 19 9 2.1\n",
      "2023-11-09 11 1 0.3\n",
      "2023-11-10 17 6 1.2\n"
     ]
    }
   ],
   "source": [
    "max_temps=[]\n",
    "min_temps=[]\n",
    "precipitations=[]\n",
    "\n",
    "for line in lines:\n",
    "        date,max_temp,min_temp,precipitation=line.strip().split(',')\n",
    "        print(date,max_temp,min_temp,precipitation)\n",
    "        max_temps.append(float(max_temp))\n",
    "        min_temps.append(float(min_temp))\n",
    "        precipitations.append(float(precipitation))"
   ]
  },
  {
   "cell_type": "code",
   "execution_count": 4,
   "metadata": {
    "colab": {
     "base_uri": "https://localhost:8080/"
    },
    "id": "UwAMyGsNZCJm",
    "outputId": "270939a0-081a-4eea-d21c-bafcc71b2399"
   },
   "outputs": [
    {
     "name": "stdout",
     "output_type": "stream",
     "text": [
      "avereage_max_temp: 15.2\n",
      "avereage_min_temp: 5.1\n",
      "total_precipitation: 9.8\n"
     ]
    }
   ],
   "source": [
    "avereage_max_temp=sum(max_temps)/len(max_temps)\n",
    "avereage_min_temp=sum(min_temps)/len(min_temps)\n",
    "total_precipitation=sum(precipitations)\n",
    "print('avereage_max_temp:',avereage_max_temp)\n",
    "print('avereage_min_temp:',avereage_min_temp)\n",
    "print('total_precipitation:',total_precipitation)"
   ]
  },
  {
   "cell_type": "code",
   "execution_count": 5,
   "metadata": {
    "colab": {
     "base_uri": "https://localhost:8080/"
    },
    "id": "iASUcvF2czO4",
    "outputId": "97f91d46-598c-4b77-b1e0-0e6657de53f2"
   },
   "outputs": [
    {
     "name": "stdout",
     "output_type": "stream",
     "text": [
      "highest_temp: 19.0\n",
      "lowest_temp: 1.0\n"
     ]
    }
   ],
   "source": [
    "highest_temp=max(max_temps)\n",
    "lowest_temp=min(min_temps)\n",
    "print('highest_temp:',highest_temp)\n",
    "print('lowest_temp:',lowest_temp)"
   ]
  },
  {
   "cell_type": "code",
   "execution_count": 6,
   "metadata": {
    "colab": {
     "base_uri": "https://localhost:8080/"
    },
    "id": "I3ZGz6ImgAhU",
    "outputId": "8496aaa7-3c7a-4030-eac1-cd52c10b3e94"
   },
   "outputs": [
    {
     "name": "stdout",
     "output_type": "stream",
     "text": [
      "rainy_days: 8\n"
     ]
    }
   ],
   "source": [
    "rainy_days=0\n",
    "for precipitation in precipitations:\n",
    "        if precipitation>0:\n",
    "                rainy_days+=1\n",
    "print('rainy_days:',rainy_days)"
   ]
  },
  {
   "cell_type": "code",
   "execution_count": null,
   "metadata": {
    "id": "FKgfVljJgZw6"
   },
   "outputs": [],
   "source": []
  }
 ],
 "metadata": {
  "accelerator": "GPU",
  "colab": {
   "gpuType": "T4",
   "provenance": []
  },
  "kernelspec": {
   "display_name": "Python 3 (ipykernel)",
   "language": "python",
   "name": "python3"
  },
  "language_info": {
   "codemirror_mode": {
    "name": "ipython",
    "version": 3
   },
   "file_extension": ".py",
   "mimetype": "text/x-python",
   "name": "python",
   "nbconvert_exporter": "python",
   "pygments_lexer": "ipython3",
   "version": "3.12.9"
  }
 },
 "nbformat": 4,
 "nbformat_minor": 4
}
